{
 "cells": [
  {
   "cell_type": "code",
   "execution_count": 1,
   "metadata": {},
   "outputs": [],
   "source": [
    "import pandas as pd\n",
    "from utils import *\n",
    "import json\n",
    "import os\n",
    "from rapidfuzz import process\n",
    "from functools import lru_cache"
   ]
  },
  {
   "cell_type": "code",
   "execution_count": 2,
   "metadata": {},
   "outputs": [],
   "source": [
    "folder_path = os.path.join(os.getcwd(), \"Competitions\")\n",
    "os.makedirs(folder_path, exist_ok=True)  # Create the folder if it doesn't exist\n",
    "# File-based caching\n",
    "CACHE_FILE = folder_path + '\\league_links.json'"
   ]
  },
  {
   "cell_type": "code",
   "execution_count": 3,
   "metadata": {},
   "outputs": [],
   "source": [
    "def load_cache(file_path=CACHE_FILE):\n",
    "    \"\"\"Load cached league URLs from a JSON file.\"\"\"\n",
    "    if os.path.exists(file_path):\n",
    "        with open(file_path, 'r') as file:\n",
    "            return json.load(file)\n",
    "    return {}"
   ]
  },
  {
   "cell_type": "code",
   "execution_count": 4,
   "metadata": {},
   "outputs": [],
   "source": [
    "def save_cache(league_dict, file_path=CACHE_FILE):\n",
    "    \"\"\"Save league URLs to a JSON file for caching.\"\"\"\n",
    "    with open(file_path, 'w') as file:\n",
    "        json.dump(league_dict, file)"
   ]
  },
  {
   "cell_type": "code",
   "execution_count": 5,
   "metadata": {},
   "outputs": [],
   "source": [
    "# Function to scrape league links from FBref's main competitions page\n",
    "def scrape_league_links_from_fbref():\n",
    "    url = \"https://fbref.com/en/comps/\"  # FBref competitions page\n",
    "    response = requests.get(url)\n",
    "    if response.status_code != 200:\n",
    "        print(f\"Failed to retrieve FBref page. Status code: {response.status_code}\")\n",
    "        return {}\n",
    "\n",
    "    soup = BeautifulSoup(response.text, 'html.parser')\n",
    "    \n",
    "    league_dict = {}\n",
    "    \n",
    "    # Find the table containing the top tier information\n",
    "    top_leagues_table = soup.find('table', {'id': 'comps_1_fa_club_league_senior'})\n",
    "    if not top_leagues_table:\n",
    "        print(\"Could not find the top tier leagues table on the page.\")\n",
    "        return {}\n",
    "    \n",
    "    # Loop through all rows in the table to extract league names and URLs\n",
    "    for row in top_leagues_table.find('tbody').find_all('th'):\n",
    "        league_link_tag = row.find('a')  # Find the link for the league\n",
    "        if league_link_tag:\n",
    "            league_name = league_link_tag.text.strip()\n",
    "            league_url = 'https://fbref.com' + league_link_tag['href']\n",
    "            league_dict[league_name] = league_url\n",
    "    \n",
    "    # Find the table containing the second tier information\n",
    "    second_leagues_table = soup.find('table', {'id': 'comps_2_fa_club_league_senior'})\n",
    "    if not second_leagues_table:\n",
    "        print(\"Could not find the second tier leagues table on the page.\")\n",
    "        return {}\n",
    "    \n",
    "    # Loop through all rows in the table to extract league names and URLs\n",
    "    for row in second_leagues_table.find('tbody').find_all('th'):\n",
    "        league_link_tag = row.find('a')  # Find the link for the league\n",
    "        if league_link_tag:\n",
    "            league_name = league_link_tag.text.strip()\n",
    "            league_url = 'https://fbref.com' + league_link_tag['href']\n",
    "            league_dict[league_name] = league_url   \n",
    "             \n",
    "    return league_dict"
   ]
  },
  {
   "cell_type": "code",
   "execution_count": 6,
   "metadata": {},
   "outputs": [],
   "source": [
    "# Function to get league links, using caching to avoid redundant scraping\n",
    "@lru_cache(maxsize=32)  # Caches the result in memory for 32 different league scrapes\n",
    "def get_league_links():\n",
    "    #\"\"\"Scrapes the league URLs or loads them from cache.\"\"\"\n",
    "    league_dict = load_cache()  # First try to load from cache\n",
    "    if not league_dict:  # If cache is empty, scrape the league URLs\n",
    "        # Placeholder for scraping logic\n",
    "        # Example: league_dict = {'K League 1': 'https://fbref.com/en/comps/55/K-League-1'}\n",
    "        league_dict = scrape_league_links_from_fbref()  # Your scraping function here\n",
    "        save_cache(league_dict)  # Save the newly scraped league URLs to cache\n",
    "    return league_dict"
   ]
  },
  {
   "cell_type": "code",
   "execution_count": 7,
   "metadata": {},
   "outputs": [],
   "source": [
    "# Fuzzy matching to get the closest league name\n",
    "\n",
    "def get_closest_league(input_league):\n",
    "    league_dict = get_league_links()  # Fetch the league dictionary, either from cache or by scraping\n",
    "    league_names = list(league_dict.keys())  # List of league names\n",
    "    closest_match = process.extractOne(input_league, league_names)  # Fuzzy match\n",
    "\n",
    "    if closest_match and closest_match[1] > 80:  # Set a threshold for accuracy (80% in this case)\n",
    "        return closest_match[0], league_dict[closest_match[0]]  # Return the match and its URL\n",
    "    return None, None"
   ]
  },
  {
   "cell_type": "code",
   "execution_count": 8,
   "metadata": {},
   "outputs": [
    {
     "name": "stdout",
     "output_type": "stream",
     "text": [
      "Closest match: Serie B, URL: https://fbref.com/en/comps/18/history/Serie-B-Seasons\n"
     ]
    }
   ],
   "source": [
    "# Ask user for league to scrape\n",
    "\n",
    "# Main Script\n",
    "if __name__ == '__main__':\n",
    "    # Example input from the user\n",
    "    user_input = 'Sere B'  # Intentionally misspelled for demonstration\n",
    "    closest_league, league_url = get_closest_league(user_input)\n",
    "\n",
    "    if closest_league:\n",
    "        print(f\"Closest match: {closest_league}, URL: {league_url}\")\n",
    "    else:\n",
    "        print(\"No close match found.\")\n",
    "        "
   ]
  }
 ],
 "metadata": {
  "kernelspec": {
   "display_name": "NBA_Project",
   "language": "python",
   "name": "python3"
  },
  "language_info": {
   "codemirror_mode": {
    "name": "ipython",
    "version": 3
   },
   "file_extension": ".py",
   "mimetype": "text/x-python",
   "name": "python",
   "nbconvert_exporter": "python",
   "pygments_lexer": "ipython3",
   "version": "3.8.19"
  }
 },
 "nbformat": 4,
 "nbformat_minor": 2
}
