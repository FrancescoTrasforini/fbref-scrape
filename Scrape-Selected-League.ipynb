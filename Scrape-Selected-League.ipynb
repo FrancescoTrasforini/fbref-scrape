{
 "cells": [
  {
   "cell_type": "code",
   "execution_count": 1,
   "metadata": {},
   "outputs": [],
   "source": [
    "from utils import *"
   ]
  },
  {
   "cell_type": "code",
   "execution_count": 2,
   "metadata": {},
   "outputs": [
    {
     "name": "stdout",
     "output_type": "stream",
     "text": [
      "Closest match: National Women's Soccer League, URL: https://fbref.com/en/comps/182/history/NWSL-Seasons\n",
      "League URL: https://fbref.com/en/comps/182/history/NWSL-Seasons\n",
      "Closest match: 2024, URL: https://fbref.com/en/comps/182/NWSL-Stats\n",
      "National Women's Soccer League data on the 2024 saved.\n"
     ]
    }
   ],
   "source": [
    "# Ask user for league to scrape\n",
    "\n",
    "# Main Script\n",
    "if __name__ == '__main__':\n",
    "    # Get team name from user\n",
    "    league = input(\"Enter the league: \")\n",
    "    gender = input(\"Enter the competition gender (M/F): \")\n",
    "    folder_path = os.path.join(os.getcwd(), \"Competitions\")\n",
    "    os.makedirs(folder_path, exist_ok=True)  # Create the folder if it doesn't exist\n",
    "    # File-based caching\n",
    "    LEAGUES_CACHE = folder_path + '\\league_links.json'\n",
    "    closest_league, league_info = get_closest_league(league,LEAGUES_CACHE,gender)\n",
    "\n",
    "    if closest_league:\n",
    "        print(f\"Closest match: {closest_league}, URL: {league_info['url']}\")\n",
    "    else:\n",
    "        print(\"No close match found.\")\n",
    "\n",
    "    # Select season \n",
    "    season = input(\"Select the season\")\n",
    "    # get selected competition folder (or create it)\n",
    "    if gender=='M':\n",
    "        full_gender = 'Men'\n",
    "    else:\n",
    "        full_gender = 'Women'\n",
    "    folder_path = os.path.join(os.getcwd(), closest_league + '-' + full_gender)\n",
    "    os.makedirs(folder_path, exist_ok=True)  \n",
    "    SEASONS_CACHE = os.path.join(folder_path, f'{closest_league}_seasons.json')\n",
    "    #print(f\"League URL: {league_url}\")\n",
    "    season_url = get_season_url(season,SEASONS_CACHE,league_info['url'])\n",
    "\n",
    "    if season_url:\n",
    "        print(f\"Closest match: {season}, URL: {season_url[1]}\")\n",
    "    else:\n",
    "        print(\"Season URL not found\")\n",
    "    \n",
    "    output_file = folder_path + f\"\\{closest_league}_{season}.xlsx\"\n",
    "    scrape_competition_tables(season_url[1], output_file)\n",
    "    print(f\"{closest_league} data on the {season} saved.\")"
   ]
  }
 ],
 "metadata": {
  "kernelspec": {
   "display_name": "NBA_Project",
   "language": "python",
   "name": "python3"
  },
  "language_info": {
   "codemirror_mode": {
    "name": "ipython",
    "version": 3
   },
   "file_extension": ".py",
   "mimetype": "text/x-python",
   "name": "python",
   "nbconvert_exporter": "python",
   "pygments_lexer": "ipython3",
   "version": "3.8.19"
  }
 },
 "nbformat": 4,
 "nbformat_minor": 2
}
