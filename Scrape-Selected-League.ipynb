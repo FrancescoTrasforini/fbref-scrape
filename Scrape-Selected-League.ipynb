{
 "cells": [
  {
   "cell_type": "code",
   "execution_count": 1,
   "metadata": {},
   "outputs": [],
   "source": [
    "from utils import *"
   ]
  },
  {
   "cell_type": "code",
   "execution_count": null,
   "metadata": {},
   "outputs": [],
   "source": [
    "# Ask user for league to scrape\n",
    "\n",
    "# Main Script\n",
    "if __name__ == '__main__':\n",
    "    # Get team name from user\n",
    "    league = input(\"Enter the league: \")\n",
    "    gender = input(\"Enter the competition gender (M/F): \")\n",
    "    folder_path = os.path.join(os.getcwd(), \"Competitions\")\n",
    "    os.makedirs(folder_path, exist_ok=True)  # Create the folder if it doesn't exist\n",
    "    # File-based caching\n",
    "    LEAGUES_CACHE = folder_path + '\\league_links.json'\n",
    "    closest_league, league_info = get_closest_league(league,LEAGUES_CACHE,gender)\n",
    "\n",
    "    if closest_league:\n",
    "        print(f\"Closest match: {closest_league}, URL: {league_info['url']}\")\n",
    "    else:\n",
    "        print(\"No close match found.\")\n",
    "\n",
    "    # Select season \n",
    "    season = input(\"Select the season\")\n",
    "    # get selected competition folder (or create it)\n",
    "    if gender=='M':\n",
    "        full_gender = 'Men'\n",
    "    else:\n",
    "        full_gender = 'Women'\n",
    "    folder_path = os.path.join(os.getcwd(), closest_league + '-' + full_gender)\n",
    "    os.makedirs(folder_path, exist_ok=True)  \n",
    "    SEASONS_CACHE = os.path.join(folder_path, f'{closest_league}_seasons.json')\n",
    "    season_url = get_season_url(season,SEASONS_CACHE,league_info['url'])\n",
    "\n",
    "    if season_url:\n",
    "        print(f\"Closest match: {season}, URL: {season_url[1]}\")\n",
    "    else:\n",
    "        print(\"Season URL not found\")\n",
    "    \n",
    "    # Get tables from the competition page\n",
    "    competition_url = season_url[1]\n",
    "    folder_path = folder_path + f\"\\{season}\"\n",
    "    os.makedirs(folder_path, exist_ok=True)\n",
    "    output_file_for = folder_path + \"\\Season-Stats.xlsx\"\n",
    "    table_card_position = \"left\"\n",
    "    scrape_page_tables(competition_url, output_file_for,table_card_position)\n",
    "    print(f\"{closest_league} data for team on the {season} saved in {output_file_for}.\")\n",
    "\n",
    "    respect_fbref_scrape_policy() # 6 seconds timeout between requests\n",
    "\n",
    "    output_file_vs = folder_path + \"\\Season-Stats-against.xlsx\"\n",
    "    table_card_position = \"right\"\n",
    "    scrape_page_tables(competition_url, output_file_vs,table_card_position)\n",
    "    print(f\"{closest_league} data vs team on the {season} saved in {output_file_vs}.\")\n",
    "\n",
    "    # Move to the Fixture page\n",
    "    table_card_position = \"left\"\n",
    "    output_file = folder_path + \"\\Fixtures.xlsx\"\n",
    "    fixtures_url = get_scores_and_fixtures_url(competition_url)\n",
    "    print(f\"Fixture URL: {fixtures_url}\")\n",
    "    scrape_page_tables(fixtures_url,output_file,table_card_position)\n",
    "\n",
    "    # Eliminate empty rows\n",
    "    df = pd.read_excel(output_file, engine='openpyxl')\n",
    "    df_cleaned = df.dropna(how='all')\n",
    "    df_cleaned.to_excel(output_file, index=False, engine='openpyxl')\n",
    "    print(f\"Cleaned Excel file saved to {output_file}\")\n"
   ]
  }
 ],
 "metadata": {
  "kernelspec": {
   "display_name": "NBA_Project",
   "language": "python",
   "name": "python3"
  },
  "language_info": {
   "codemirror_mode": {
    "name": "ipython",
    "version": 3
   },
   "file_extension": ".py",
   "mimetype": "text/x-python",
   "name": "python",
   "nbconvert_exporter": "python",
   "pygments_lexer": "ipython3",
   "version": "3.8.19"
  }
 },
 "nbformat": 4,
 "nbformat_minor": 2
}
