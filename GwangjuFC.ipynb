{
 "cells": [
  {
   "cell_type": "code",
   "execution_count": 9,
   "metadata": {},
   "outputs": [],
   "source": [
    "import time\n",
    "import pandas as pd\n",
    "from selenium import webdriver\n",
    "from selenium.webdriver.edge.service import Service\n",
    "from selenium.webdriver.edge.options import Options\n",
    "from webdriver_manager.microsoft import EdgeChromiumDriverManager\n",
    "from bs4 import BeautifulSoup\n",
    "from selenium.webdriver.common.by import By"
   ]
  },
  {
   "cell_type": "code",
   "execution_count": 2,
   "metadata": {},
   "outputs": [],
   "source": [
    "\n",
    "# Initialize Selenium WebDriver\n",
    "def init_webdriver():\n",
    "    options = Options()\n",
    "    options.add_argument(\"--headless\")  # Run in headless mode\n",
    "    service = Service(EdgeChromiumDriverManager().install())\n",
    "    driver = webdriver.Edge(service=service, options=options)\n",
    "    return driver"
   ]
  },
  {
   "cell_type": "code",
   "execution_count": 3,
   "metadata": {},
   "outputs": [],
   "source": [
    "\n",
    "# Load the page and extract HTML content\n",
    "def get_page_content(driver, url):\n",
    "    driver.get(url)\n",
    "    time.sleep(10)  # Wait for the page to load\n",
    "    html = driver.page_source\n",
    "    return html"
   ]
  },
  {
   "cell_type": "code",
   "execution_count": 4,
   "metadata": {},
   "outputs": [],
   "source": [
    "\n",
    "# Parse the table using BeautifulSoup\n",
    "def extract_table_data(html,table_name):\n",
    "    soup = BeautifulSoup(html, \"html.parser\")\n",
    "    table = soup.find(\"table\", {\"id\": table_name})\n",
    "    \n",
    "    # Extract table headers\n",
    "    headers = [th.getText() for th in table.find(\"thead\").findAll(\"th\")]\n",
    "    \n",
    "    # Extract table rows\n",
    "    rows = table.find(\"tbody\").findAll(\"tr\")\n",
    "    data = []\n",
    "    \n",
    "    for row in rows:\n",
    "        # \"Date\" appears to be in a <th> element rather than in a <td> one\n",
    "        date = row.find(\"th\").getText().strip()\n",
    "        \n",
    "        # Extract the rest of the columns (data) from <td> elements\n",
    "        cells = row.findAll(\"td\")\n",
    "        if len(cells) > 0:\n",
    "            match_data = [cell.getText().strip() for cell in cells]  # Clean up the text\n",
    "            match_data.insert(0, date)  # Insert the date at the beginning of the row data\n",
    "            \n",
    "            # This was for debugging purposes \n",
    "            # print(f\"Row data ({len(match_data)}): {match_data}\")  # Print row data for inspection\n",
    "            \n",
    "            # Check if the number of columns matches the headers\n",
    "            if len(match_data) != len(headers):\n",
    "                print(f\"Skipping row with mismatched columns: {len(match_data)} columns\")\n",
    "                continue  # Skip this row if the column count doesn't match\n",
    "            \n",
    "            data.append(match_data)\n",
    "    \n",
    "    return headers, data"
   ]
  },
  {
   "cell_type": "code",
   "execution_count": 5,
   "metadata": {},
   "outputs": [],
   "source": [
    "\n",
    "# Convert data to a DataFrame\n",
    "def create_dataframe(headers, data):\n",
    "    df = pd.DataFrame(data, columns=headers)\n",
    "    # Clean up column names by removing any unnamed columns\n",
    "    df.columns = df.columns.str.replace(\"Unnamed: \", \"\")\n",
    "    # Add a new column \"Match Number\" starting from 1\n",
    "    df.index = pd.RangeIndex(start=1, stop=len(df) + 1, step=1)\n",
    "    df.index.name = \"Match Number\"\n",
    "    return df"
   ]
  },
  {
   "cell_type": "code",
   "execution_count": 6,
   "metadata": {},
   "outputs": [],
   "source": [
    "\n",
    "# Save data to Excel\n",
    "def save_data(df, filename=\"gwangju_fc_matches_2024.xlsx\"):\n",
    "    df.to_excel(filename, index=True)\n",
    "    return filename"
   ]
  },
  {
   "cell_type": "code",
   "execution_count": 7,
   "metadata": {},
   "outputs": [],
   "source": [
    "\n",
    "# Check if the table exists\n",
    "def check_table(driver,table_name):\n",
    "    try:\n",
    "        table_exists = driver.find_element(By.ID, table_name)\n",
    "        print(f\"Table {table_exists} found using Selenium!\")\n",
    "    except:\n",
    "        print(f\"Table {table_exists} not found using Selenium\")"
   ]
  },
  {
   "cell_type": "code",
   "execution_count": 8,
   "metadata": {},
   "outputs": [
    {
     "name": "stdout",
     "output_type": "stream",
     "text": [
      "Table <selenium.webdriver.remote.webelement.WebElement (session=\"0624d7640be74943b93ad85c73b58e13\", element=\"f.7FA5AB98A0240E9A4A52429894B1DC5F.d.10575541D3382057910E2EAD452FFA38.e.48\")> found using Selenium!\n",
      "Data saved to gwangju_fc_matches_2024.xlsx\n"
     ]
    }
   ],
   "source": [
    "\n",
    "table_name = \"matchlogs_for\"\n",
    "\n",
    "# Main script\n",
    "if __name__ == \"__main__\":\n",
    "    edge_options = Options()\n",
    "    url = \"https://fbref.com/en/squads/ae306ede/Gwangju-FC-Stats#all_matchlogs\"\n",
    "    driver = init_webdriver()\n",
    "    \n",
    "    try:\n",
    "        html = get_page_content(driver, url)\n",
    "        table_exists = check_table(driver,table_name)\n",
    "        headers, data = extract_table_data(html,table_name)\n",
    "        df = create_dataframe(headers, data)\n",
    "        filename = save_data(df)\n",
    "        print(f\"Data saved to {filename}\")\n",
    "    finally:\n",
    "        driver.quit()"
   ]
  }
 ],
 "metadata": {
  "kernelspec": {
   "display_name": "NBA_Project",
   "language": "python",
   "name": "python3"
  },
  "language_info": {
   "codemirror_mode": {
    "name": "ipython",
    "version": 3
   },
   "file_extension": ".py",
   "mimetype": "text/x-python",
   "name": "python",
   "nbconvert_exporter": "python",
   "pygments_lexer": "ipython3",
   "version": "3.8.19"
  }
 },
 "nbformat": 4,
 "nbformat_minor": 2
}
